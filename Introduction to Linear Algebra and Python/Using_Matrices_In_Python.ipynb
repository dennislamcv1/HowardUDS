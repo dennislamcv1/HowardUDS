{
 "cells": [
  {
   "cell_type": "code",
   "execution_count": 1,
   "id": "ae498fa2",
   "metadata": {},
   "outputs": [],
   "source": [
    "import numpy as np\n",
    "import sympy as sy\n",
    "import random"
   ]
  },
  {
   "cell_type": "code",
   "execution_count": 2,
   "id": "a6f93184",
   "metadata": {},
   "outputs": [],
   "source": [
    "L = np.linspace(0,120,25)"
   ]
  },
  {
   "cell_type": "code",
   "execution_count": 16,
   "id": "d820016d",
   "metadata": {},
   "outputs": [
    {
     "data": {
      "text/plain": [
       "array([[  0.,   5.,  10.,  15.,  20.],\n",
       "       [ 25.,  30.,  35.,  40.,  45.],\n",
       "       [ 50.,  55.,  60.,  65.,  70.],\n",
       "       [ 75.,  80.,  85.,  90.,  95.],\n",
       "       [100., 105., 110., 115., 120.]])"
      ]
     },
     "execution_count": 16,
     "metadata": {},
     "output_type": "execute_result"
    }
   ],
   "source": [
    "M = L.reshape(5,5)\n",
    "M"
   ]
  },
  {
   "cell_type": "code",
   "execution_count": 6,
   "id": "8c1989a0",
   "metadata": {},
   "outputs": [],
   "source": [
    "# Using Random Integers"
   ]
  },
  {
   "cell_type": "code",
   "execution_count": 13,
   "id": "e4c5fef3",
   "metadata": {},
   "outputs": [
    {
     "data": {
      "text/plain": [
       "array([[-2,  0,  4,  0,  3],\n",
       "       [ 4,  5,  5,  1, -1],\n",
       "       [-2,  0,  0, -3, -2],\n",
       "       [ 4,  5,  0, -4, -2],\n",
       "       [ 3,  3,  0,  1,  3]])"
      ]
     },
     "execution_count": 13,
     "metadata": {},
     "output_type": "execute_result"
    }
   ],
   "source": [
    "R = np.random.randint(-4,6,size=(5,5))\n",
    "R"
   ]
  },
  {
   "cell_type": "code",
   "execution_count": 14,
   "id": "5abf752a",
   "metadata": {},
   "outputs": [],
   "source": [
    "# Populate a Matrix Manually"
   ]
  },
  {
   "cell_type": "code",
   "execution_count": 18,
   "id": "74724507",
   "metadata": {},
   "outputs": [
    {
     "data": {
      "text/plain": [
       "array([[ 1,  2,  3],\n",
       "       [-5,  9, 11]])"
      ]
     },
     "execution_count": 18,
     "metadata": {},
     "output_type": "execute_result"
    }
   ],
   "source": [
    "A = np.array([[1,2,3],[-5,9,11]])\n",
    "A"
   ]
  },
  {
   "cell_type": "code",
   "execution_count": 19,
   "id": "2d5fd214",
   "metadata": {},
   "outputs": [
    {
     "data": {
      "text/plain": [
       "array([[ 5],\n",
       "       [-7],\n",
       "       [ 3]])"
      ]
     },
     "execution_count": 19,
     "metadata": {},
     "output_type": "execute_result"
    }
   ],
   "source": [
    "C= np.array([[5],[-7],[3]])\n",
    "C"
   ]
  },
  {
   "cell_type": "code",
   "execution_count": 21,
   "id": "5ba773aa",
   "metadata": {},
   "outputs": [
    {
     "data": {
      "text/plain": [
       "array([6, 8, 4])"
      ]
     },
     "execution_count": 21,
     "metadata": {},
     "output_type": "execute_result"
    }
   ],
   "source": [
    "RW = np.array([6,8,4])\n",
    "RW"
   ]
  },
  {
   "cell_type": "code",
   "execution_count": 23,
   "id": "da2ddb34",
   "metadata": {},
   "outputs": [
    {
     "data": {
      "text/plain": [
       "array([[  0.,   5.,  10.,  15.,  20.],\n",
       "       [ 25.,  30.,  35.,  40.,  45.],\n",
       "       [ 50.,  55.,  60.,  65.,  70.],\n",
       "       [ 75.,  80.,  85.,  90.,  95.],\n",
       "       [100., 105., 110., 115., 120.]])"
      ]
     },
     "execution_count": 23,
     "metadata": {},
     "output_type": "execute_result"
    }
   ],
   "source": [
    "M"
   ]
  },
  {
   "cell_type": "code",
   "execution_count": 30,
   "id": "f7fdc846",
   "metadata": {},
   "outputs": [
    {
     "data": {
      "text/plain": [
       "array([ 0.,  5., 10., 15., 20.])"
      ]
     },
     "execution_count": 30,
     "metadata": {},
     "output_type": "execute_result"
    }
   ],
   "source": [
    "M[0]"
   ]
  },
  {
   "cell_type": "code",
   "execution_count": 25,
   "id": "00fa7ce8",
   "metadata": {},
   "outputs": [
    {
     "data": {
      "text/plain": [
       "array([ 0.,  5., 10., 15., 20.])"
      ]
     },
     "execution_count": 25,
     "metadata": {},
     "output_type": "execute_result"
    }
   ],
   "source": [
    "M[0,0:5]"
   ]
  },
  {
   "cell_type": "code",
   "execution_count": 26,
   "id": "7846a343",
   "metadata": {},
   "outputs": [
    {
     "data": {
      "text/plain": [
       "array([ 0.,  5., 10., 15., 20.])"
      ]
     },
     "execution_count": 26,
     "metadata": {},
     "output_type": "execute_result"
    }
   ],
   "source": [
    "M[0,:]"
   ]
  },
  {
   "cell_type": "code",
   "execution_count": 27,
   "id": "095a0be2",
   "metadata": {},
   "outputs": [
    {
     "data": {
      "text/plain": [
       "array([  0.,  25.,  50.,  75., 100.])"
      ]
     },
     "execution_count": 27,
     "metadata": {},
     "output_type": "execute_result"
    }
   ],
   "source": [
    "M[:,0]"
   ]
  },
  {
   "cell_type": "code",
   "execution_count": 28,
   "id": "cd60a1bb",
   "metadata": {},
   "outputs": [
    {
     "data": {
      "text/plain": [
       "array([ 10.,  35.,  60.,  85., 110.])"
      ]
     },
     "execution_count": 28,
     "metadata": {},
     "output_type": "execute_result"
    }
   ],
   "source": [
    "M[:,2]"
   ]
  },
  {
   "cell_type": "code",
   "execution_count": 31,
   "id": "c4d4676c",
   "metadata": {},
   "outputs": [
    {
     "data": {
      "text/plain": [
       "array([[65.]])"
      ]
     },
     "execution_count": 31,
     "metadata": {},
     "output_type": "execute_result"
    }
   ],
   "source": [
    "M[2:3,3:4]"
   ]
  },
  {
   "cell_type": "code",
   "execution_count": 32,
   "id": "db111fbc",
   "metadata": {},
   "outputs": [
    {
     "data": {
      "text/plain": [
       "array([[10., 15.],\n",
       "       [35., 40.],\n",
       "       [60., 65.]])"
      ]
     },
     "execution_count": 32,
     "metadata": {},
     "output_type": "execute_result"
    }
   ],
   "source": [
    "M[0:3,2:4]"
   ]
  },
  {
   "cell_type": "code",
   "execution_count": null,
   "id": "d3751c70",
   "metadata": {},
   "outputs": [],
   "source": []
  }
 ],
 "metadata": {
  "kernelspec": {
   "display_name": "Python 3",
   "language": "python",
   "name": "python3"
  },
  "language_info": {
   "codemirror_mode": {
    "name": "ipython",
    "version": 3
   },
   "file_extension": ".py",
   "mimetype": "text/x-python",
   "name": "python",
   "nbconvert_exporter": "python",
   "pygments_lexer": "ipython3",
   "version": "3.8.8"
  }
 },
 "nbformat": 4,
 "nbformat_minor": 5
}
